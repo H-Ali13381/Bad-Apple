{
 "cells": [
  {
   "cell_type": "markdown",
   "id": "1b74a1f4-58bd-4f0f-ada1-c50bee92af22",
   "metadata": {},
   "source": [
    "## Video to image frames (with opencv)"
   ]
  },
  {
   "cell_type": "code",
   "execution_count": 2,
   "id": "54628f3d-224b-4c5e-a935-8e0f400e6ef9",
   "metadata": {},
   "outputs": [],
   "source": [
    "import cv2\n",
    "import os\n",
    "import numpy as np\n",
    "import subprocess"
   ]
  },
  {
   "cell_type": "code",
   "execution_count": 2,
   "id": "e13f44c3-50f1-4386-9ce5-a1e6d3838888",
   "metadata": {},
   "outputs": [
    {
     "name": "stdout",
     "output_type": "stream",
     "text": [
      "Done. Total frames generated: 6572\n"
     ]
    }
   ],
   "source": [
    "# Script to convert video\n",
    "video_path = 'BadApple.mp4'\n",
    "output_dir = 'video_frames'\n",
    "output_size = (240,180)\n",
    "\n",
    "video_capture = cv2.VideoCapture(video_path)\n",
    "total_frames = int(video_capture.get(cv2.CAP_PROP_FRAME_COUNT))\n",
    "\n",
    "frame_number = 0\n",
    "while True:\n",
    "    ret, frame = video_capture.read()\n",
    "    if not ret:\n",
    "        break\n",
    "\n",
    "    # Naming, grayscaling, saving frames\n",
    "    frame = cv2.resize(frame, output_size)\n",
    "    frame = cv2.cvtColor(frame, cv2.COLOR_BGR2GRAY)\n",
    "    frame_filename = os.path.join(output_dir, f\"frame_{frame_number:04d}.jpg\")\n",
    "    cv2.imwrite(frame_filename, frame)\n",
    "\n",
    "    frame_number += 1\n",
    "\n",
    "# Release the video capture object\n",
    "video_capture.release()\n",
    "\n",
    "print(f\"Done. Total frames generated: {total_frames}\")"
   ]
  },
  {
   "cell_type": "raw",
   "id": "a2c1ea8b-f596-480b-8260-a70f9c77e23a",
   "metadata": {
    "scrolled": true
   },
   "source": [
    "frame_filename_0 = \"default\"\n",
    "img_0 = 0\n",
    "count = 0\n",
    "max_count = 0\n",
    "\n",
    "for frame_number in range(total_frames):\n",
    "\n",
    "    # Image data read\n",
    "    frame_filename_1 = os.path.join(output_dir, f\"frame_{frame_number:04d}.jpg\")\n",
    "    img_1 = cv2.imread(frame_filename_1, cv2.IMREAD_GRAYSCALE)\n",
    "\n",
    "    if np.array_equal(img_0, img_1):\n",
    "        count += 1\n",
    "    else:\n",
    "        max_count = max(count, max_count)\n",
    "        count = 0\n",
    "\n",
    "    frame_filename_0 = frame_filename_1\n",
    "    img_0 = img_1\n",
    "    \n",
    "\n",
    "print(max_count)"
   ]
  },
  {
   "cell_type": "raw",
   "id": "f8f50066-0700-44a3-9342-4d3d7d5414f3",
   "metadata": {},
   "source": [
    "> I must use 42 images as memory to accurately generate images. I will opt to use the prior frame number instead to optimize."
   ]
  },
  {
   "cell_type": "code",
   "execution_count": 3,
   "id": "2104d696-9924-45bc-9849-dcd856779781",
   "metadata": {},
   "outputs": [
    {
     "data": {
      "text/plain": [
       "CompletedProcess(args=['ffmpeg', '-i', 'BadApple.mp4', '-q:a', '0', '-map', 'a', 'BadApple.mp3'], returncode=0)"
      ]
     },
     "execution_count": 3,
     "metadata": {},
     "output_type": "execute_result"
    }
   ],
   "source": [
    "subprocess.run([\"ffmpeg\", \"-i\", \"BadApple.mp4\", \"-q:a\", \"0\", \"-map\", \"a\", \"BadApple.mp3\"]);"
   ]
  },
  {
   "cell_type": "code",
   "execution_count": null,
   "id": "e83c6b01-28c2-44f4-b439-8724370a1faa",
   "metadata": {},
   "outputs": [],
   "source": []
  }
 ],
 "metadata": {
  "kernelspec": {
   "display_name": "Python 3 (ipykernel)",
   "language": "python",
   "name": "python3"
  },
  "language_info": {
   "codemirror_mode": {
    "name": "ipython",
    "version": 3
   },
   "file_extension": ".py",
   "mimetype": "text/x-python",
   "name": "python",
   "nbconvert_exporter": "python",
   "pygments_lexer": "ipython3",
   "version": "3.13.2"
  }
 },
 "nbformat": 4,
 "nbformat_minor": 5
}
